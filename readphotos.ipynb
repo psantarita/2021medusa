{
 "cells": [
  {
   "cell_type": "code",
   "execution_count": 1,
   "id": "0b55166d",
   "metadata": {},
   "outputs": [],
   "source": [
    "from PIL import Image "
   ]
  },
  {
   "cell_type": "code",
   "execution_count": 2,
   "id": "49fc5889",
   "metadata": {},
   "outputs": [],
   "source": [
    "filenames = ['/home/pedro/Downloads/Photos-001/1.jpg',\n",
    "            '/home/pedro/Downloads/Photos-001/2.jpg'\n",
    "            \n",
    "            ]\n",
    "images =[]\n",
    "for i in filenames:\n",
    "    images.append(Image.open(i))"
   ]
  },
  {
   "cell_type": "code",
   "execution_count": 3,
   "id": "4467998b",
   "metadata": {},
   "outputs": [],
   "source": [
    "# px1 = images[0].load()\n",
    "# px2 = img2.load()\n",
    "\n",
    "pixels =[]\n",
    "for element in images:\n",
    "    pixels.append(element.load())"
   ]
  },
  {
   "cell_type": "code",
   "execution_count": 10,
   "id": "3c8d5bf4",
   "metadata": {},
   "outputs": [
    {
     "name": "stdout",
     "output_type": "stream",
     "text": [
      "<PIL.Image.Image image mode=RGB size=1800x4000 at 0x7F34582344F0>\n",
      "CPU times: user 7.16 s, sys: 47.8 ms, total: 7.21 s\n",
      "Wall time: 7.24 s\n"
     ]
    }
   ],
   "source": [
    "%%time\n",
    "from PIL import Image \n",
    "\n",
    "filenames = ['/home/pedro/Downloads/Photos-001/1.jpg','/home/pedro/Downloads/Photos-001/2.jpg']\n",
    "\n",
    "def imsum(name_img1,name_img2):\n",
    "    \n",
    "    img1 = Image.open(name_img1)\n",
    "    img2 = Image.open(name_img2)\n",
    "#     img1.show()\n",
    "    px1 =img1.load()\n",
    "    px2= img2.load()\n",
    "    size =img1.size\n",
    "\n",
    "    sumofpic = Image.new('RGB', size)\n",
    "#     sumofpic.show()      \n",
    "    for x in range(0,size[0]):\n",
    "        for y in range(0,size[1]):\n",
    "            r = int((px1[x,y][0]+px2[x,y][0])/2)\n",
    "            g = int((px1[x,y][1]+px2[x,y][1])/2)\n",
    "            b = int((px1[x,y][2]+px2[x,y][2])/2)\n",
    "        newval = (r,g,b,0)\n",
    "#         print(newval)\n",
    "        sumofpic.putpixel((x, y),newval)\n",
    "    \n",
    "    return sumofpic\n",
    "\n",
    "alpha = imsum(filenames[0],filenames[1])\n",
    "print(alpha)\n",
    "alpha.show()\n",
    "\n"
   ]
  },
  {
   "cell_type": "code",
   "execution_count": 5,
   "id": "7d7eb6ae",
   "metadata": {},
   "outputs": [],
   "source": [
    "# %%time\n",
    "# size = images[0].size\n",
    "# sumofpic = Image.new('RGB', size)\n",
    "# numofpics = len(filenames)\n",
    "# print(numofpics)\n",
    "# if 1==1:\n",
    "#     for x in range(0,size[0]):\n",
    "#         for y in range(0,size[1]):\n",
    "#             for a in range(0,len(pixels)):\n",
    "#                 r =+ int(pixels[a][x,y][0]/numofpics)\n",
    "#                 g =+ int(pixels[a][x,y][1]/numofpics)\n",
    "#                 b =+ int(pixels[a][x,y][2]/numofpics)\n",
    "# #             r = int((pixels[0][x,y][0]+pixels[1][x,y][0])/numofpics)\n",
    "# #             g = int((pixels[0][x,y][1]+pixels[1][x,y][1])/numofpics)\n",
    "# #             b = int((pixels[0][x,y][2]+pixels[1][x,y][2])/numofpics)\n",
    "#             newval = (r,g,b)\n",
    "#             sumofpic.putpixel((x, y),newval)"
   ]
  },
  {
   "cell_type": "code",
   "execution_count": 6,
   "id": "6af8ee0a",
   "metadata": {},
   "outputs": [],
   "source": [
    "alpha.show()"
   ]
  },
  {
   "cell_type": "code",
   "execution_count": null,
   "id": "075d4e32",
   "metadata": {},
   "outputs": [],
   "source": []
  },
  {
   "cell_type": "code",
   "execution_count": null,
   "id": "2fad36ad",
   "metadata": {},
   "outputs": [],
   "source": []
  },
  {
   "cell_type": "code",
   "execution_count": null,
   "id": "3f5c6ede",
   "metadata": {},
   "outputs": [],
   "source": []
  },
  {
   "cell_type": "code",
   "execution_count": null,
   "id": "9dbe16b4",
   "metadata": {},
   "outputs": [],
   "source": []
  }
 ],
 "metadata": {
  "kernelspec": {
   "display_name": "Python 3",
   "language": "python",
   "name": "python3"
  },
  "language_info": {
   "codemirror_mode": {
    "name": "ipython",
    "version": 3
   },
   "file_extension": ".py",
   "mimetype": "text/x-python",
   "name": "python",
   "nbconvert_exporter": "python",
   "pygments_lexer": "ipython3",
   "version": "3.8.10"
  }
 },
 "nbformat": 4,
 "nbformat_minor": 5
}
