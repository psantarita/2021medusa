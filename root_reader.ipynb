{
 "cells": [
  {
   "cell_type": "code",
   "execution_count": 1,
   "id": "41144f65",
   "metadata": {},
   "outputs": [
    {
     "name": "stdout",
     "output_type": "stream",
     "text": [
      "Welcome to JupyROOT 6.22/05\n"
     ]
    },
    {
     "data": {
      "text/html": [
       "<style>.container { width:100% !important; }</style>"
      ],
      "text/plain": [
       "<IPython.core.display.HTML object>"
      ]
     },
     "metadata": {},
     "output_type": "display_data"
    }
   ],
   "source": [
    "import ROOT\n",
    "import root\n",
    "import unlag\n",
    "from ipywidgets import *\n",
    "from ROOT import TLegend, TCanvas, TFormula, TF1,TLine, TH1F,TH1,TSpectrum\n",
    "from matplotlib.pyplot import *\n",
    "from matplotlib.pyplot import figure\n",
    "from shapely.geometry import Point, Polygon, LineString\n",
    "import matplotlib.pyplot as plt \n",
    "from shapely import geometry\n",
    "from array import array\n",
    "from ROOT import TGraph\n",
    "from scipy.optimize import curve_fit\n",
    "from ROOT import gROOT,TFile\n",
    "import numpy as np\n",
    "from scipy import optimize\n",
    "import matplotlib.pyplot as plt\n",
    "from IPython.display import display, Image\n",
    "from ROOT import TCanvas, TGraph, TF1,TGraphErrors\n",
    "from random import seed\n",
    "from random import randint\n",
    "from IPython.display import display\n",
    "from ipywidgets import widgets\n",
    "from ipywidgets import interact, interactive\n",
    "from ipywidgets import HBox, VBox, Button, Layout\n",
    "from IPython.display import display\n",
    "import sys\n",
    "import fileinput\n",
    "from IPython import display\n",
    "import numpy as np\n",
    "from scipy import optimize\n",
    "import matplotlib.pyplot as plt\n",
    "from IPython.display import display, Image\n",
    "from ROOT import TCanvas, TGraph, TF1\n",
    "import numpy as np\n",
    "from uncertainties import ufloat\n",
    "from uncertainties.umath import * \n",
    "from ROOT import TCanvas, TGraph, TF1\n",
    "import numpy  as np\n",
    "import scipy as sp\n",
    "import matplotlib.pyplot as plt\n",
    "from scipy import interpolate\n",
    "import random\n",
    "import matplotlib.pyplot as plt\n",
    "import scipy.stats\n",
    "import numpy as np\n",
    "import math as math\n",
    "import pandas as pd\n",
    "from datetime import datetime\n",
    "from ROOT import gStyle\n",
    "from ROOT import gROOT\n",
    "from ROOT import TStyle\n",
    "from ROOT import TColor\n",
    "\n",
    "\n",
    "#display fix to be wider\n",
    "from IPython.core.display import display, HTML\n",
    "display(HTML(\"<style>.container { width:100% !important; }</style>\"))"
   ]
  },
  {
   "cell_type": "code",
   "execution_count": 2,
   "id": "0ed0c35d",
   "metadata": {},
   "outputs": [],
   "source": [
    "%%cpp\n",
    "class single_event {\n",
    "    public:\n",
    "      Double_t labrE;\n",
    "      Double_t dssdE;\n",
    "      Double_t tdcT;\n",
    "      Double_t theta;\n",
    "      Double_t phi;\n",
    "      Double_t catx;\n",
    "      Double_t caty;\n",
    "      Int_t run;\n",
    "      single_event(Double_t labrE_i,\n",
    "                   Double_t dssdE_i,\n",
    "                   Double_t tdcT_i,\n",
    "                   Double_t theta_i,\n",
    "                   Double_t phi_i,\n",
    "                   Double_t catx_i,\n",
    "                   Double_t caty_i,\n",
    "                   Int_t run_i\n",
    "                  ){\n",
    "\n",
    "        labrE =labrE_i;\n",
    "        dssdE =dssdE_i;\n",
    "        tdcT= tdcT_i;\n",
    "        phi = phi_i;\n",
    "        theta =theta_i;\n",
    "        catx =  catx_i,\n",
    "        caty = caty_i;\n",
    "        run = run_i;\n",
    "      }\n",
    "  };"
   ]
  },
  {
   "cell_type": "code",
   "execution_count": 3,
   "id": "029872e8",
   "metadata": {},
   "outputs": [
    {
     "data": {
      "text/plain": [
       "5.0"
      ]
     },
     "execution_count": 3,
     "metadata": {},
     "output_type": "execute_result"
    }
   ],
   "source": [
    "a  = ROOT.single_event(0,1,2,3,4,5,6,7)\n",
    "a.catx"
   ]
  },
  {
   "cell_type": "code",
   "execution_count": 5,
   "id": "02f85e2f",
   "metadata": {},
   "outputs": [
    {
     "ename": "NameError",
     "evalue": "name 'poly_61' is not defined",
     "output_type": "error",
     "traceback": [
      "\u001b[0;31m---------------------------------------------------------------------------\u001b[0m",
      "\u001b[0;31mNameError\u001b[0m                                 Traceback (most recent call last)",
      "\u001b[0;32m<ipython-input-5-8501e170292c>\u001b[0m in \u001b[0;36m<module>\u001b[0;34m\u001b[0m\n\u001b[1;32m     28\u001b[0m     \u001b[0;32mreturn\u001b[0m\u001b[0;34m\u001b[0m\u001b[0;34m\u001b[0m\u001b[0m\n\u001b[1;32m     29\u001b[0m \u001b[0;34m\u001b[0m\u001b[0m\n\u001b[0;32m---> 30\u001b[0;31m \u001b[0mreaddamnfile\u001b[0m\u001b[0;34m(\u001b[0m\u001b[0;34m)\u001b[0m\u001b[0;34m\u001b[0m\u001b[0;34m\u001b[0m\u001b[0m\n\u001b[0m\u001b[1;32m     31\u001b[0m \u001b[0;34m\u001b[0m\u001b[0m\n",
      "\u001b[0;32m<ipython-input-5-8501e170292c>\u001b[0m in \u001b[0;36mreaddamnfile\u001b[0;34m()\u001b[0m\n\u001b[1;32m     19\u001b[0m     \u001b[0;32mfor\u001b[0m \u001b[0mevent\u001b[0m \u001b[0;32min\u001b[0m \u001b[0mtree\u001b[0m\u001b[0;34m:\u001b[0m\u001b[0;34m\u001b[0m\u001b[0;34m\u001b[0m\u001b[0m\n\u001b[1;32m     20\u001b[0m         \u001b[0mh\u001b[0m\u001b[0;34m.\u001b[0m\u001b[0mFill\u001b[0m\u001b[0;34m(\u001b[0m\u001b[0ma\u001b[0m\u001b[0;34m.\u001b[0m\u001b[0mlabrE\u001b[0m\u001b[0;34m)\u001b[0m\u001b[0;34m\u001b[0m\u001b[0;34m\u001b[0m\u001b[0m\n\u001b[0;32m---> 21\u001b[0;31m         \u001b[0;32mif\u001b[0m \u001b[0mpolygonchecker61\u001b[0m\u001b[0;34m(\u001b[0m\u001b[0ma\u001b[0m\u001b[0;34m.\u001b[0m\u001b[0mcatx\u001b[0m\u001b[0;34m,\u001b[0m\u001b[0ma\u001b[0m\u001b[0;34m.\u001b[0m\u001b[0mcaty\u001b[0m\u001b[0;34m,\u001b[0m\u001b[0mpoly_61\u001b[0m\u001b[0;34m)\u001b[0m\u001b[0;34m:\u001b[0m\u001b[0;34m\u001b[0m\u001b[0;34m\u001b[0m\u001b[0m\n\u001b[0m\u001b[1;32m     22\u001b[0m             \u001b[0mcatania\u001b[0m\u001b[0;34m.\u001b[0m\u001b[0mFill\u001b[0m\u001b[0;34m(\u001b[0m\u001b[0ma\u001b[0m\u001b[0;34m.\u001b[0m\u001b[0mcatx\u001b[0m\u001b[0;34m,\u001b[0m\u001b[0ma\u001b[0m\u001b[0;34m.\u001b[0m\u001b[0mcaty\u001b[0m\u001b[0;34m)\u001b[0m\u001b[0;34m\u001b[0m\u001b[0;34m\u001b[0m\u001b[0m\n\u001b[1;32m     23\u001b[0m \u001b[0;34m\u001b[0m\u001b[0m\n",
      "\u001b[0;31mNameError\u001b[0m: name 'poly_61' is not defined"
     ]
    }
   ],
   "source": [
    "from ROOT import TH2F\n",
    "def polygonchecker61(catx,caty,polygon):\n",
    "    x = catx\n",
    "    y = caty\n",
    "    point = Point(x,y)\n",
    "    if polygon.contains(point)==True:\n",
    "        return True\n",
    "    else:\n",
    "        return False\n",
    "    \n",
    "def readdamnfile():   \n",
    "    f = ROOT.TFile.Open(\"medusa43.root\", \"READ\")\n",
    "    tree = f.Get('imdat')\n",
    "    tree.Print()\n",
    "    a  = ROOT.single_event(0,1,2,3,4,5,6,7)\n",
    "    tree.SetBranchAddress(\"EventBranch\", a)\n",
    "    h = TH1F(\"histo\",\"histo\",1000,0,10)\n",
    "    catania = TH2F(\"catania\",\"catania\",500,0,70,500,0,12)\n",
    "    for event in tree:\n",
    "        h.Fill(a.labrE)\n",
    "        if polygonchecker61(a.catx,a.caty,poly_61):\n",
    "            catania.Fill(a.catx,a.caty)\n",
    "\n",
    "    ccc = ROOT.TCanvas(\"c7\",\"c7\",800,800)\n",
    "    catania.Draw('colz')\n",
    "    root.draw(ccc)\n",
    "\n",
    "    return \n",
    "\n",
    "readdamnfile()\n",
    "\n"
   ]
  },
  {
   "cell_type": "code",
   "execution_count": null,
   "id": "aefa8bc1",
   "metadata": {},
   "outputs": [],
   "source": []
  },
  {
   "cell_type": "code",
   "execution_count": null,
   "id": "ab0b588a",
   "metadata": {},
   "outputs": [],
   "source": []
  },
  {
   "cell_type": "code",
   "execution_count": null,
   "id": "351d0f4b",
   "metadata": {},
   "outputs": [],
   "source": []
  },
  {
   "cell_type": "code",
   "execution_count": null,
   "id": "2c10eb42",
   "metadata": {},
   "outputs": [],
   "source": []
  },
  {
   "cell_type": "code",
   "execution_count": null,
   "id": "8d317b6f",
   "metadata": {},
   "outputs": [],
   "source": []
  }
 ],
 "metadata": {
  "kernelspec": {
   "display_name": "Python 3",
   "language": "python",
   "name": "python3"
  },
  "language_info": {
   "codemirror_mode": {
    "name": "ipython",
    "version": 3
   },
   "file_extension": ".py",
   "mimetype": "text/x-python",
   "name": "python",
   "nbconvert_exporter": "python",
   "pygments_lexer": "ipython3",
   "version": "3.8.10"
  }
 },
 "nbformat": 4,
 "nbformat_minor": 5
}
